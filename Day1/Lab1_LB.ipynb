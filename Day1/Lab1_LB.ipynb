{
 "cells": [
  {
   "cell_type": "markdown",
   "metadata": {},
   "source": [
    "# **Lab 1: Python Basics, File Handling, NumPy, and Pandas**  \n",
    "### **🕒 Duration: 1 Hour**  \n",
    "### **📝 Objective:**  \n",
    "This lab is designed to assess and reinforce students' understanding of **Python basics, file handling, NumPy, and Pandas**. Students must **complete missing code** in the given blocks and verify their solutions using the provided **test functions**.\n",
    "\n",
    "---\n",
    "\n",
    "## **Part 1: Python Basics - Variables, Functions, and Loops**  \n",
    "\n",
    "### **1️⃣ Define a Function to Calculate Factorial**  \n",
    "Fill in the missing code to compute the **factorial** of a given number using a loop.  \n"
   ]
  },
  {
   "cell_type": "code",
   "execution_count": 1,
   "metadata": {},
   "outputs": [
    {
     "name": "stdout",
     "output_type": "stream",
     "text": [
      "✅ All test cases passed!\n"
     ]
    }
   ],
   "source": [
    "def factorial(n):\n",
    "    \"\"\"Compute the factorial of a number.\"\"\"\n",
    "    result = 1\n",
    "    for i in range(1, n + 1):  # <-- Fill this\n",
    "        result *= i  # <-- Fill this\n",
    "    return result\n",
    "\n",
    "# ✅ Test Case\n",
    "def test_factorial():\n",
    "    assert factorial(5) == 120, \"Test case failed!\"\n",
    "    assert factorial(3) == 6, \"Test case failed!\"\n",
    "    assert factorial(1) == 1, \"Test case failed!\"\n",
    "    print(\"✅ All test cases passed!\")\n",
    "\n",
    "test_factorial()"
   ]
  },
  {
   "cell_type": "markdown",
   "metadata": {},
   "source": [
    "\n",
    "---\n",
    "\n",
    "### **2️⃣ Reverse a String**\n",
    "Complete the function to reverse a given string."
   ]
  },
  {
   "cell_type": "code",
   "execution_count": 2,
   "metadata": {},
   "outputs": [
    {
     "name": "stdout",
     "output_type": "stream",
     "text": [
      "✅ All test cases passed!\n"
     ]
    }
   ],
   "source": [
    "def reverse_string(s):\n",
    "    \"\"\"Reverse a string.\"\"\"\n",
    "    return s[::-1]  # <-- Fill this\n",
    "\n",
    "# ✅ Test Case\n",
    "def test_reverse_string():\n",
    "    assert reverse_string(\"Python\") == \"nohtyP\", \"Test case failed!\"\n",
    "    assert reverse_string(\"Data\") == \"ataD\", \"Test case failed!\"\n",
    "    print(\"✅ All test cases passed!\")\n",
    "\n",
    "test_reverse_string()"
   ]
  },
  {
   "cell_type": "markdown",
   "metadata": {},
   "source": [
    "\n",
    "---\n",
    "\n",
    "### **3️⃣ Find Even Numbers in a List**\n",
    "Complete the function to return a list of even numbers from the given list."
   ]
  },
  {
   "cell_type": "code",
   "execution_count": 3,
   "metadata": {},
   "outputs": [
    {
     "name": "stdout",
     "output_type": "stream",
     "text": [
      "✅ All test cases passed!\n"
     ]
    }
   ],
   "source": [
    "def find_even_numbers(lst):\n",
    "    \"\"\"Return a list of even numbers.\"\"\"\n",
    "    return [num for num in lst if num % 2 == 0]  # <-- Fill this\n",
    "\n",
    "# ✅ Test Case\n",
    "def test_find_even_numbers():\n",
    "    assert find_even_numbers([1, 2, 3, 4, 5, 6]) == [2, 4, 6], \"Test case failed!\"\n",
    "    assert find_even_numbers([10, 15, 20, 25]) == [10, 20], \"Test case failed!\"\n",
    "    print(\"✅ All test cases passed!\")\n",
    "\n",
    "test_find_even_numbers()"
   ]
  },
  {
   "cell_type": "markdown",
   "metadata": {},
   "source": [
    "\n",
    "---\n",
    "\n",
    "## **📌 Part 2: File Handling**  \n",
    "\n",
    "### **4️⃣ Writing and Reading a File**\n",
    "Fill in the missing parts to **write a list of names to a file** and **read the content**.\n"
   ]
  },
  {
   "cell_type": "code",
   "execution_count": 6,
   "metadata": {},
   "outputs": [
    {
     "name": "stdout",
     "output_type": "stream",
     "text": [
      "✅ All test cases passed!\n"
     ]
    }
   ],
   "source": [
    "# Writing to a file\n",
    "def write_to_file(filename, data):\n",
    "    with open(filename, \"w\") as file:  # <-- Fill this\n",
    "        for name in data:\n",
    "            file.write(name + \"\\n\")  # <-- Fill this\n",
    "\n",
    "# Reading from a file\n",
    "def read_from_file(filename):\n",
    "    with open(filename, \"r\") as file:  # <-- Fill this\n",
    "        return file.readlines()  # <-- Fill this\n",
    "\n",
    "# ✅ Test Case\n",
    "def test_file_handling():\n",
    "    filename = \"names.txt\"\n",
    "    names = [\"Alice\", \"Bob\", \"Charlie\"]\n",
    "    \n",
    "    write_to_file(filename, names)\n",
    "    content = read_from_file(filename)\n",
    "    \n",
    "    assert content == [\"Alice\\n\", \"Bob\\n\", \"Charlie\\n\"], \"Test case failed!\"\n",
    "    print(\"✅ All test cases passed!\")\n",
    "\n",
    "test_file_handling()"
   ]
  },
  {
   "cell_type": "markdown",
   "metadata": {},
   "source": [
    "\n",
    "\n",
    "---\n",
    "\n",
    "### **5️⃣ Writing and Reading a JSON File**\n",
    "Fill in the missing parts to write and read a dictionary from a JSON file.\n"
   ]
  },
  {
   "cell_type": "code",
   "execution_count": 7,
   "metadata": {},
   "outputs": [
    {
     "name": "stdout",
     "output_type": "stream",
     "text": [
      "✅ All test cases passed!\n"
     ]
    }
   ],
   "source": [
    "import json\n",
    "\n",
    "# Writing to a JSON file\n",
    "def write_json(filename, data):\n",
    "    with open(filename, \"w\") as file:  # <-- Fill this\n",
    "        json.dump(data, file, indent=4)  # <-- Fill this\n",
    "\n",
    "# Reading from a JSON file\n",
    "def read_json(filename):\n",
    "    with open(filename, \"r\") as file:  # <-- Fill this\n",
    "        return json.load(file)  # <-- Fill this\n",
    "\n",
    "# ✅ Test Case\n",
    "def test_json_handling():\n",
    "    filename = \"data.json\"\n",
    "    data = {\"name\": \"Alice\", \"age\": 25, \"city\": \"Paris\"}\n",
    "    \n",
    "    write_json(filename, data)\n",
    "    loaded_data = read_json(filename)\n",
    "    \n",
    "    assert loaded_data == data, \"Test case failed!\"\n",
    "    print(\"✅ All test cases passed!\")\n",
    "\n",
    "test_json_handling()"
   ]
  },
  {
   "cell_type": "markdown",
   "metadata": {},
   "source": [
    "\n",
    "---\n",
    "\n",
    "## **📌 Part 3: NumPy**  \n",
    "\n",
    "### **6️⃣ Create and Modify a NumPy Array**\n",
    "Fill in the missing code to create a NumPy array and perform element-wise operations.\n"
   ]
  },
  {
   "cell_type": "code",
   "execution_count": 8,
   "metadata": {},
   "outputs": [
    {
     "name": "stdout",
     "output_type": "stream",
     "text": [
      "✅ All test cases passed!\n"
     ]
    }
   ],
   "source": [
    "import numpy as np\n",
    "\n",
    "def create_array():\n",
    "    \"\"\"Create a NumPy array with elements [1, 2, 3, 4, 5].\"\"\"\n",
    "    return np.array([1, 2, 3, 4, 5])  # <-- Fill this\n",
    "\n",
    "def modify_array(arr):\n",
    "    \"\"\"Multiply all elements by 2.\"\"\"\n",
    "    return arr * 2  # <-- Fill this\n",
    "\n",
    "# ✅ Test Case\n",
    "def test_numpy_array():\n",
    "    arr = create_array()\n",
    "    modified_arr = modify_array(arr)\n",
    "    \n",
    "    assert np.array_equal(arr, np.array([1, 2, 3, 4, 5])), \"Test case failed!\"\n",
    "    assert np.array_equal(modified_arr, np.array([2, 4, 6, 8, 10])), \"Test case failed!\"\n",
    "    print(\"✅ All test cases passed!\")\n",
    "\n",
    "test_numpy_array()"
   ]
  },
  {
   "cell_type": "markdown",
   "metadata": {},
   "source": [
    "\n",
    "---\n",
    "\n",
    "## **📌 Part 4: Pandas**  \n",
    "\n",
    "### **7️⃣ Load, Filter, and Save Data Using Pandas**\n",
    "Fill in the missing parts to **load a dataset, filter rows, and save the modified DataFrame**.\n"
   ]
  },
  {
   "cell_type": "code",
   "execution_count": 9,
   "metadata": {},
   "outputs": [
    {
     "name": "stdout",
     "output_type": "stream",
     "text": [
      "✅ All test cases passed!\n"
     ]
    }
   ],
   "source": [
    "import pandas as pd\n",
    "\n",
    "# Load CSV file into a DataFrame\n",
    "def load_csv(filename):\n",
    "    return pd.read_csv(filename)  # <-- Fill this\n",
    "\n",
    "# Filter rows where 'Age' is greater than 30\n",
    "def filter_data(df):\n",
    "    return df[df[\"Age\"] > 30]  # <-- Fill this\n",
    "\n",
    "# Save DataFrame to a new CSV file\n",
    "def save_csv(df, filename):\n",
    "    df.to_csv(filename, index=False)  # <-- Fill this\n",
    "\n",
    "# ✅ Test Case\n",
    "def test_pandas_operations():\n",
    "    filename = \"people.csv\"\n",
    "    \n",
    "    # Create sample data\n",
    "    data = {\"Name\": [\"Alice\", \"Bob\", \"Charlie\", \"David\"],\n",
    "            \"Age\": [25, 40, 35, 29]}\n",
    "    \n",
    "    df = pd.DataFrame(data)\n",
    "    df.to_csv(filename, index=False)\n",
    "    \n",
    "    loaded_df = load_csv(filename)\n",
    "    filtered_df = filter_data(loaded_df)\n",
    "    \n",
    "    assert len(filtered_df) == 2, \"Test case failed!\"  # Should filter out Alice & David\n",
    "    print(\"✅ All test cases passed!\")\n",
    "\n",
    "test_pandas_operations()"
   ]
  }
 ],
 "metadata": {
  "kernelspec": {
   "display_name": "Python 3",
   "language": "python",
   "name": "python3"
  },
  "language_info": {
   "codemirror_mode": {
    "name": "ipython",
    "version": 3
   },
   "file_extension": ".py",
   "mimetype": "text/x-python",
   "name": "python",
   "nbconvert_exporter": "python",
   "pygments_lexer": "ipython3",
   "version": "3.10.12"
  }
 },
 "nbformat": 4,
 "nbformat_minor": 2
}
